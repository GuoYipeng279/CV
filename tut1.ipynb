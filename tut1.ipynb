{
 "cells": [
  {
   "cell_type": "code",
   "execution_count": 18,
   "metadata": {},
   "outputs": [],
   "source": [
    "import numpy as np\n",
    "from matplotlib import pyplot as plt"
   ]
  },
  {
   "cell_type": "code",
   "execution_count": 19,
   "metadata": {},
   "outputs": [
    {
     "data": {
      "image/png": "[encoded data removed]",
      "text/plain": [
       "<Figure size 432x288 with 1 Axes>"
      ]
     },
     "metadata": {
      "needs_background": "light"
     },
     "output_type": "display_data"
    }
   ],
   "source": [
    "image = np.array([[3, 4, 8, 15, 25, 44, 50, 52],\n",
    "[3, 4, 8, 15, 25, 44, 50, 52],\n",
    "[3, 4, 8, 15, 25, 44, 50, 52],\n",
    "[3, 4, 8, 15, 25, 44, 50, 52],\n",
    "[3, 4, 8, 15, 25, 44, 50, 52],\n",
    "[3, 4, 8, 15, 25, 44, 50, 52],\n",
    "[3, 4, 8, 15, 25, 44, 50, 52],\n",
    "[3, 4, 8, 15, 25, 44, 50, 52]])\n",
    "plt.imshow(image)\n",
    "plt.show()"
   ]
  },
  {
   "cell_type": "code",
   "execution_count": 20,
   "metadata": {},
   "outputs": [
    {
     "name": "stdout",
     "output_type": "stream",
     "text": [
      "[[-1  0  1]\n",
      " [-1  0  1]\n",
      " [-1  0  1]]\n",
      "[[ 1  1  1]\n",
      " [ 0  0  0]\n",
      " [-1 -1 -1]]\n"
     ]
    }
   ],
   "source": [
    "prewitt1 = np.array([[-1, 0, 1],\n",
    "[-1, 0, 1],\n",
    "[-1, 0, 1]])\n",
    "prewitt2 = prewitt1.T[::-1]\n",
    "print(prewitt1)\n",
    "print(prewitt2)"
   ]
  },
  {
   "cell_type": "code",
   "execution_count": 21,
   "metadata": {},
   "outputs": [
    {
     "name": "stdout",
     "output_type": "stream",
     "text": [
      "[[-1  0  1]\n",
      " [-2  0  2]\n",
      " [-1  0  1]]\n",
      "[[ 1  2  1]\n",
      " [ 0  0  0]\n",
      " [-1 -2 -1]]\n"
     ]
    }
   ],
   "source": [
    "sobel1 = np.array([[-1, 0, 1],\n",
    "[-2, 0, 2],\n",
    "[-1, 0, 1]])\n",
    "sobel2 = sobel1.T[::-1]\n",
    "print(sobel1)\n",
    "print(sobel2)"
   ]
  },
  {
   "cell_type": "code",
   "execution_count": 22,
   "metadata": {},
   "outputs": [
    {
     "name": "stdout",
     "output_type": "stream",
     "text": [
      "[[ 0  1  0]\n",
      " [ 1 -4  1]\n",
      " [ 0  1  0]]\n"
     ]
    }
   ],
   "source": [
    "laplacian = np.array([[0, 1, 0],\n",
    "[1,-4, 1],\n",
    "[0, 1, 0]])\n",
    "print(laplacian)"
   ]
  },
  {
   "cell_type": "code",
   "execution_count": 23,
   "metadata": {},
   "outputs": [],
   "source": [
    "def convolve(image:np.ndarray, kernel:np.ndarray, show=False):\n",
    "    x,y = image.shape\n",
    "    xx,yy = kernel.shape\n",
    "    ans = np.zeros((x-xx+1,y-yy+1))\n",
    "    for i in range(len(ans)):\n",
    "        for j in range(len(ans[0])):\n",
    "            ans[i,j] = np.sum(np.sum(image[i:i+xx,j:j+yy]*kernel))\n",
    "    if show:\n",
    "        plt.imshow(ans)\n",
    "        plt.show()\n",
    "    return abs(ans)"
   ]
  },
  {
   "cell_type": "code",
   "execution_count": 24,
   "metadata": {},
   "outputs": [
    {
     "data": {
      "image/png": "[encoded data removed]",
      "text/plain": [
       "<Figure size 432x288 with 1 Axes>"
      ]
     },
     "metadata": {
      "needs_background": "light"
     },
     "output_type": "display_data"
    },
    {
     "data": {
      "image/png": "[encoded data removed]",
      "text/plain": [
       "<Figure size 432x288 with 1 Axes>"
      ]
     },
     "metadata": {
      "needs_background": "light"
     },
     "output_type": "display_data"
    }
   ],
   "source": [
    "p1 = convolve(image,prewitt1,True)\n",
    "p2 = convolve(image,prewitt2,True)"
   ]
  },
  {
   "cell_type": "code",
   "execution_count": 25,
   "metadata": {},
   "outputs": [
    {
     "data": {
      "image/png": "[encoded data removed]",
      "text/plain": [
       "<Figure size 432x288 with 1 Axes>"
      ]
     },
     "metadata": {
      "needs_background": "light"
     },
     "output_type": "display_data"
    },
    {
     "data": {
      "image/png": "[encoded data removed]",
      "text/plain": [
       "<Figure size 432x288 with 1 Axes>"
      ]
     },
     "metadata": {
      "needs_background": "light"
     },
     "output_type": "display_data"
    }
   ],
   "source": [
    "s1 = convolve(image,sobel1,True)\n",
    "s2 = convolve(image,sobel2,True)"
   ]
  },
  {
   "cell_type": "code",
   "execution_count": 26,
   "metadata": {},
   "outputs": [
    {
     "data": {
      "image/png": "[encoded data removed]",
      "text/plain": [
       "<Figure size 432x288 with 1 Axes>"
      ]
     },
     "metadata": {
      "needs_background": "light"
     },
     "output_type": "display_data"
    }
   ],
   "source": [
    "lap = convolve(image, laplacian,True)"
   ]
  },
  {
   "cell_type": "code",
   "execution_count": 32,
   "metadata": {},
   "outputs": [
    {
     "data": {
      "image/png": "[encoded data removed]",
      "text/plain": [
       "<Figure size 432x288 with 1 Axes>"
      ]
     },
     "metadata": {
      "needs_background": "light"
     },
     "output_type": "display_data"
    }
   ],
   "source": [
    "gauss = np.array([[1/36, 1/9, 1/36],\n",
    "[1/9, 4/9, 1/9],\n",
    "[1/36, 1/9, 1/36]])\n",
    "gau = convolve(image,gauss,True)"
   ]
  },
  {
   "cell_type": "code",
   "execution_count": 46,
   "metadata": {},
   "outputs": [],
   "source": [
    "def convolve2d(image:np.ndarray, kernel:np.ndarray, show=False):\n",
    "    x,y = image.shape\n",
    "    xx,yy = kernel.shape\n",
    "    ans = np.zeros((x-xx+1,y-yy+1))\n",
    "    for i in range(x):\n",
    "        for j in range(xx):\n",
    "            if i-j >= 0 and i-j < x-xx+1:\n",
    "                temp = np.convolve(image[i],kernel[j])[xx-1:-xx+1]\n",
    "                ans[i-j] += temp\n",
    "    if show:\n",
    "        plt.imshow(ans)\n",
    "        plt.show()\n",
    "    return ans"
   ]
  },
  {
   "cell_type": "code",
   "execution_count": 47,
   "metadata": {},
   "outputs": [
    {
     "data": {
      "image/png": "[encoded data removed]",
      "text/plain": [
       "<Figure size 432x288 with 1 Axes>"
      ]
     },
     "metadata": {
      "needs_background": "light"
     },
     "output_type": "display_data"
    },
    {
     "data": {
      "image/png": "[encoded data removed]",
      "text/plain": [
       "<Figure size 432x288 with 1 Axes>"
      ]
     },
     "metadata": {
      "needs_background": "light"
     },
     "output_type": "display_data"
    }
   ],
   "source": [
    "p1 = convolve2d(image,prewitt1,True)\n",
    "p2 = convolve2d(image,prewitt2,True)"
   ]
  }
 ],
 "metadata": {
  "kernelspec": {
   "display_name": "Python 3.7.11 ('base')",
   "language": "python",
   "name": "python3"
  },
  "language_info": {
   "codemirror_mode": {
    "name": "ipython",
    "version": 3
   },
   "file_extension": ".py",
   "mimetype": "text/x-python",
   "name": "python",
   "nbconvert_exporter": "python",
   "pygments_lexer": "ipython3",
   "version": "3.7.11"
  },
  "orig_nbformat": 4,
  "vscode": {
   "interpreter": {
    "hash": "8ba9518ca4d3a1cfdfdedb62c6a9445a18bf006711f276b156ac15948056c126"
   }
  }
 },
 "nbformat": 4,
 "nbformat_minor": 2
}
