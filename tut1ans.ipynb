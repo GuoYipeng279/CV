{
 "cells": [
  {
   "cell_type": "code",
   "execution_count": 1,
   "metadata": {},
   "outputs": [
    {
     "name": "stdout",
     "output_type": "stream",
     "text": [
      "[[3, 4, 8, 15, 25, 44, 50, 52], [3, 4, 8, 15, 25, 44, 50, 52], [3, 4, 8, 15, 25, 44, 50, 52], [3, 4, 8, 15, 25, 44, 50, 52], [3, 4, 8, 15, 25, 44, 50, 52], [3, 4, 8, 15, 25, 44, 50, 52], [3, 4, 8, 15, 25, 44, 50, 52], [3, 4, 8, 15, 25, 44, 50, 52]]\n"
     ]
    },
    {
     "data": {
      "image/png": "[encoded data removed]",
      "text/plain": [
       "<Figure size 640x480 with 1 Axes>"
      ]
     },
     "metadata": {},
     "output_type": "display_data"
    }
   ],
   "source": [
    "import numpy as np\n",
    "from matplotlib import pyplot as plt\n",
    "with open (\"image.txt\", \"r\") as myfile:\n",
    "    data = myfile.read().splitlines()\n",
    "data = [list(map(int,i.split(' '))) for i in data]\n",
    "print(data)\n",
    "plt.imshow(data)\n",
    "plt.show()"
   ]
  },
  {
   "cell_type": "code",
   "execution_count": null,
   "metadata": {},
   "outputs": [],
   "source": [
    "def np_convolve2d(a, v, mode='valid', keep_dims=False):  # mode='valid'\n",
    "    \"\"\"Convolve an image with filter_n using valid mode\n",
    "    In valid mode the output consists only of those elements that do not rely on the zero-padding.\n",
    "    # TODO: full and same modes\n",
    "    \n",
    "    Parameters\n",
    "    ----------\n",
    "    a : (N,) array_like\n",
    "        First one-dimensional input array.\n",
    "    v : (M,) array_like\n",
    "        Second one-dimensional input array.\n",
    "    mode : {'full', 'valid', 'same'}, optional\n",
    "        'full':\n",
    "          By default, mode is 'full'.  This returns the convolution\n",
    "          at each point of overlap, with an output shape of (N+M-1,). At\n",
    "          the end-points of the convolution, the signals do not overlap\n",
    "          completely, and boundary effects may be seen.\n",
    "        'same':\n",
    "          Mode 'same' returns output of length ``max(M, N)``.  Boundary\n",
    "          effects are still visible.\n",
    "        'valid':\n",
    "          Mode 'valid' returns output of length\n",
    "          ``max(M, N) - min(M, N) + 1``.  The convolution product is only given\n",
    "          for points where the signals overlap completely.  Values outside\n",
    "          the signal boundary have no effect.\n",
    "    keep_dims : str\n",
    "        If True, keep the size of the original image and replace only the affected pixels by the filtered results.\n",
    "        \n",
    "    Returns\n",
    "    -------\n",
    "    out : ndarray\n",
    "        Discrete, linear convolution of `a` and `v`.\n",
    "    \"\"\"\n",
    "    sub_shape = conv_filter.shape + tuple(np.subtract(image.shape, conv_filter.shape) + 1)\n",
    "    strider = np.lib.stride_tricks.as_strided\n",
    "    sub_matrices = strider(image, shape=sub_shape, strides=image.strides*2)\n",
    "    \n",
    "    c = np.einsum('ij,ijkl->kl', conv_filter, sub_matrices)\n",
    "    \n",
    "    if keep_dims:\n",
    "        h = np.floor(np.array(v.shape)/2).astype(np.int)\n",
    "        c_keep_dims = a.copy()\n",
    "        c_keep_dims[h[0]:-h[0],h[1]:-h[1]] = c\n",
    "        return c_keep_dims\n",
    "    return c\n"
   ]
  }
 ],
 "metadata": {
  "kernelspec": {
   "display_name": "Python 3.10.6 64-bit",
   "language": "python",
   "name": "python3"
  },
  "language_info": {
   "codemirror_mode": {
    "name": "ipython",
    "version": 3
   },
   "file_extension": ".py",
   "mimetype": "text/x-python",
   "name": "python",
   "nbconvert_exporter": "python",
   "pygments_lexer": "ipython3",
   "version": "3.10.6"
  },
  "orig_nbformat": 4,
  "vscode": {
   "interpreter": {
    "hash": "e7370f93d1d0cde622a1f8e1c04877d8463912d04d973331ad4851f04de6915a"
   }
  }
 },
 "nbformat": 4,
 "nbformat_minor": 2
}
